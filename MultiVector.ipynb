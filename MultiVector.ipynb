{
 "cells": [
  {
   "cell_type": "code",
   "execution_count": 1,
   "metadata": {},
   "outputs": [],
   "source": [
    "import os\n",
    "from langchain_nvidia_ai_endpoints import NVIDIARerank, NVIDIAEmbeddings\n",
    "from langchain.retrievers import ContextualCompressionRetriever\n",
    "from langchain_community.document_loaders import TextLoader\n",
    "from langchain_text_splitters import RecursiveCharacterTextSplitter\n",
    "from astrapy import DataAPIClient\n",
    "from dotenv import load_dotenv\n",
    "from astrapy.info import CreateTableDefinition, ColumnType\n",
    "from astrapy.data_types import DataAPIMap, DataAPIVector\n",
    "\n",
    "\n",
    "load_dotenv()\n",
    "\n",
    "\n",
    "ASTRA_DB_API_ENDPOINT = os.getenv(\"ASTRA_DB_API_ENDPOINT\")\n",
    "ASTRA_DB_APPLICATION_TOKEN = os.getenv(\"ASTRA_DB_APPLICATION_TOKEN\")\n",
    "NVIDIA_API_KEY = os.getenv(\"NVIDIA_API_KEY\")\n",
    "\n",
    "\n",
    "client = DataAPIClient(ASTRA_DB_APPLICATION_TOKEN)\n",
    "database = client.get_database(ASTRA_DB_API_ENDPOINT)\n",
    "embedv1 = NVIDIAEmbeddings(model=\"nvidia/nv-embed-v1\", api_key=NVIDIA_API_KEY)\n",
    "mistral = NVIDIAEmbeddings(model=\"nvidia/nv-embedqa-mistral-7b-v2\", api_key=NVIDIA_API_KEY)\n",
    "documents = TextLoader(\"moby10b.txt\").load()\n",
    "text_splitter = RecursiveCharacterTextSplitter(chunk_size=500, chunk_overlap=200)\n",
    "texts = text_splitter.split_documents(documents)\n",
    "\n"
   ]
  },
  {
   "cell_type": "code",
   "execution_count": null,
   "metadata": {},
   "outputs": [],
   "source": [
    "schema = (\n",
    "    CreateTableDefinition.builder()\n",
    "    .add_column(\"chunk_id\", ColumnType.INT)\n",
    "    .add_column(\"document_id\", ColumnType.TEXT)\n",
    "    .add_vector_column(\"nv_embed_v1\", dimension=4096)\n",
    "    .add_vector_column(\"nv_embedqa_mistral_7b_v2\", dimension=4096)\n",
    "    .add_map_column(\"metadata\", ColumnType.TEXT, ColumnType.TEXT)\n",
    "    .add_column(\"content\", ColumnType.TEXT)\n",
    "    .add_partition_by([\"chunk_id\"])\n",
    "    .build()\n",
    ")\n",
    "\n",
    "\n",
    "table = database.create_table(\n",
    "    \"multivector\",\n",
    "    definition=schema,\n",
    ")"
   ]
  },
  {
   "cell_type": "code",
   "execution_count": 3,
   "metadata": {},
   "outputs": [],
   "source": [
    "table = database.get_table(\"multivector\")\n",
    "\n",
    "\n",
    "table.create_vector_index(\"nv_embed_v1_index\", column=\"nv_embed_v1\", if_not_exists=True)\n",
    "table.create_vector_index(\"nv_embedqa_mistral_7b_v2_index\", column=\"nv_embedqa_mistral_7b_v2\", if_not_exists=True)\n",
    "table.create_index(\"document_id_index\", column=\"document_id\", if_not_exists=True)"
   ]
  },
  {
   "cell_type": "code",
   "execution_count": null,
   "metadata": {},
   "outputs": [],
   "source": [
    "for i, chunk in enumerate(texts):\n",
    "    table.insert_one(\n",
    "        {\n",
    "            \"chunk_id\": i,\n",
    "            \"document_id\": chunk.metadata[\"source\"],\n",
    "            \"nv_embed_v1\": DataAPIVector(embedv1.embed_query(chunk.page_content)),\n",
    "            \"nv_embedqa_mistral_7b_v2\": DataAPIVector(mistral.embed_query(chunk.page_content)),\n",
    "            \"metadata\": DataAPIMap(chunk.metadata),\n",
    "            \"content\": chunk.page_content\n",
    "        }\n",
    "    )"
   ]
  },
  {
   "cell_type": "code",
   "execution_count": 4,
   "metadata": {},
   "outputs": [],
   "source": [
    "query = \"What are the main character's thoughts on whether or not whales are fish?\"\n",
    "query0 = embedv1.embed_query(query)\n",
    "query1 = mistral.embed_query(query)"
   ]
  },
  {
   "cell_type": "code",
   "execution_count": 25,
   "metadata": {},
   "outputs": [],
   "source": [
    "cursor = table.find(filter={\"document_id\": \"moby10b.txt\"}, \n",
    "                    sort={\"nv_embed_v1\": DataAPIVector(query0)},\n",
    "                    limit=10,\n",
    "                    projection={\"chunk_id\": True, \"content\": True},\n",
    "                    include_similarity=True)\n",
    "\n",
    "embedv1_results = [row for row in cursor]\n"
   ]
  },
  {
   "cell_type": "code",
   "execution_count": 26,
   "metadata": {},
   "outputs": [],
   "source": [
    "cursor = table.find(filter={\"document_id\": \"moby10b.txt\"}, \n",
    "                    sort={\"nv_embedqa_mistral_7b_v2\": DataAPIVector(query1)},\n",
    "                    limit=10,\n",
    "                    projection={\"chunk_id\": True, \"content\": True},\n",
    "                    include_similarity=True)\n",
    "\n",
    "mistral_results = [row for row in cursor]"
   ]
  },
  {
   "cell_type": "code",
   "execution_count": null,
   "metadata": {},
   "outputs": [],
   "source": [
    "from langchain_core.documents import Document\n",
    "\n",
    "\n",
    "all_docs = [Document(doc['content']) for doc in embedv1_results] + [Document(doc['content']) for doc in mistral_results]\n",
    "reranker = NVIDIARerank(base_url=\"https://integrate.api.nvidia.com/v1\", api_key=NVIDIA_API_KEY)\n",
    "reranker.top_n = 5\n",
    "docs = reranker.compress_documents(query=query, documents=all_docs)\n",
    "docs"
   ]
  }
 ],
 "metadata": {
  "kernelspec": {
   "display_name": "langchain",
   "language": "python",
   "name": "python3"
  },
  "language_info": {
   "codemirror_mode": {
    "name": "ipython",
    "version": 3
   },
   "file_extension": ".py",
   "mimetype": "text/x-python",
   "name": "python",
   "nbconvert_exporter": "python",
   "pygments_lexer": "ipython3",
   "version": "3.10.10"
  }
 },
 "nbformat": 4,
 "nbformat_minor": 2
}
